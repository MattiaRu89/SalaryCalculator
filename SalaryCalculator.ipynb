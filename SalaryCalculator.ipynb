{
 "cells": [
  {
   "cell_type": "code",
   "execution_count": 12,
   "metadata": {},
   "outputs": [],
   "source": [
    "import tkinter as tk\n",
    "from tkinter import messagebox"
   ]
  },
  {
   "cell_type": "code",
   "execution_count": 13,
   "metadata": {},
   "outputs": [],
   "source": [
    "def net_money_calculator():\n",
    "    try:\n",
    "        salary=float(entry_salary.get())\n",
    "        taxes_pct=float(entry_taxes.get())\n",
    "        net_salary=salary-(salary*taxes_pct)\n",
    "        result.config(text=f'Your net salary is {net_salary:.2f}')\n",
    "    except ValueError:\n",
    "        messagebox.showerror(\"Error\", \"Input right amount for salary and pct of taxes.\")\n"
   ]
  },
  {
   "cell_type": "code",
   "execution_count": 14,
   "metadata": {},
   "outputs": [
    {
     "data": {
      "text/plain": [
       "''"
      ]
     },
     "execution_count": 14,
     "metadata": {},
     "output_type": "execute_result"
    }
   ],
   "source": [
    "root = tk.Tk()\n",
    "root.title(\"Salary Calculator\")"
   ]
  },
  {
   "cell_type": "code",
   "execution_count": 15,
   "metadata": {},
   "outputs": [],
   "source": [
    "label_salary = tk.Label(root, text=\"Input your salary:\")\n",
    "label_salary.pack()\n",
    "entry_salary = tk.Entry(root)\n",
    "entry_salary.pack()"
   ]
  },
  {
   "cell_type": "code",
   "execution_count": 16,
   "metadata": {},
   "outputs": [],
   "source": [
    "label_taxes = tk.Label(root, text=\"Input your taxes:\")\n",
    "label_taxes.pack()\n",
    "entry_taxes = tk.Entry(root)\n",
    "entry_taxes.pack()"
   ]
  },
  {
   "cell_type": "code",
   "execution_count": 17,
   "metadata": {},
   "outputs": [],
   "source": [
    "button_calculation = tk.Button(root, text=\"get net_salary\", command=net_money_calculator)\n",
    "button_calculation.pack()"
   ]
  },
  {
   "cell_type": "code",
   "execution_count": 18,
   "metadata": {},
   "outputs": [],
   "source": [
    "result = tk.Label(root, text=\"Your net salary is: \")\n",
    "result.pack()"
   ]
  },
  {
   "cell_type": "code",
   "execution_count": 19,
   "metadata": {},
   "outputs": [],
   "source": [
    "root.mainloop()"
   ]
  }
 ],
 "metadata": {
  "kernelspec": {
   "display_name": "base",
   "language": "python",
   "name": "python3"
  },
  "language_info": {
   "codemirror_mode": {
    "name": "ipython",
    "version": 3
   },
   "file_extension": ".py",
   "mimetype": "text/x-python",
   "name": "python",
   "nbconvert_exporter": "python",
   "pygments_lexer": "ipython3",
   "version": "3.11.7"
  }
 },
 "nbformat": 4,
 "nbformat_minor": 2
}
